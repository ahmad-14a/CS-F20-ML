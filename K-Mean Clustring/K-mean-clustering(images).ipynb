{
 "cells": [
  {
   "attachments": {},
   "cell_type": "markdown",
   "metadata": {},
   "source": [
    "# K Mean Clustering "
   ]
  },
  {
   "attachments": {},
   "cell_type": "markdown",
   "metadata": {},
   "source": [
    "### Import the libraries"
   ]
  },
  {
   "cell_type": "code",
   "execution_count": 36,
   "metadata": {},
   "outputs": [],
   "source": [
    "import numpy as np\n",
    "import cv2 as cv\n",
    "from matplotlib import pyplot as plt"
   ]
  },
  {
   "attachments": {},
   "cell_type": "markdown",
   "metadata": {},
   "source": [
    "### Sapmle Input Data"
   ]
  },
  {
   "cell_type": "code",
   "execution_count": null,
   "metadata": {},
   "outputs": [],
   "source": [
    "from PIL import Image\n",
    "from IPython.display import display\n",
    "\n",
    "# Specify the filenames of the images\n",
    "image_filenames = ['1.jpg', '2.jpg', '3.jpg']\n",
    "\n",
    "# Open and display each image\n",
    "for filename in image_filenames:\n",
    "    # Open the image using PIL\n",
    "    image = Image.open(filename)\n",
    "\n",
    "    # Define the desired width for the resized image\n",
    "    desired_width = 250\n",
    "\n",
    "    # Calculate the new height while maintaining the aspect ratio\n",
    "    aspect_ratio = float(image.size[1]) / float(image.size[0])\n",
    "    desired_height = int(aspect_ratio * desired_width)\n",
    "\n",
    "    # Resize the image\n",
    "    resized_image = image.resize((desired_width, desired_height))\n",
    "\n",
    "    # Display the resized image\n",
    "    display(resized_image)\n"
   ]
  },
  {
   "attachments": {},
   "cell_type": "markdown",
   "metadata": {},
   "source": [
    "### Read the images"
   ]
  },
  {
   "cell_type": "code",
   "execution_count": null,
   "metadata": {},
   "outputs": [],
   "source": [
    "input_img_1 = cv.imread('1.jpg')\n",
    "input_img_2 = cv.imread('2.jpg')\n",
    "input_img_3 = cv.imread('3.jpg')\n",
    "\n",
    "#Information of images\n",
    "print(\"shapes of images:\")\n",
    "print('Image 1: ', input_img_1.shape)\n",
    "print('Image 2: ', input_img_2.shape)\n",
    "print('Image 3: ', input_img_3.shape)\n",
    "\n"
   ]
  },
  {
   "attachments": {},
   "cell_type": "markdown",
   "metadata": {},
   "source": [
    "### Under Standing the data"
   ]
  },
  {
   "cell_type": "code",
   "execution_count": null,
   "metadata": {},
   "outputs": [],
   "source": [
    "#printing the first 2 rows of the image\n",
    "print(\"Image 1 : ROW1:\")\n",
    "print(input_img_1[0:1].shape)\n",
    "print(input_img_1[0:1])"
   ]
  },
  {
   "attachments": {},
   "cell_type": "markdown",
   "metadata": {},
   "source": [
    "### Preprocessing the data"
   ]
  },
  {
   "cell_type": "code",
   "execution_count": null,
   "metadata": {},
   "outputs": [],
   "source": [
    "#_________________This code will need your attention to run properly____________\n",
    "\n",
    "#convert the image 1 to 2D array\n",
    "input_img_1_2d = \n",
    "print(\"Image 1 : 2D array:\")\n",
    "print(input_img_1_2d.shape)\n",
    "\n",
    "#convert the image 2 to 2D array\n",
    "input_img_2_2d = \n",
    "print(\"Image 2 : 2D array:\")\n",
    "print(input_img_2_2d.shape)\n",
    "\n",
    "#convert the image 3 to 2D array\n",
    "input_img_3_2d = \n",
    "print(\"Image 3 : 2D array:\")\n",
    "print(input_img_3_2d.shape)\n",
    "\n",
    "#convert the image 1 to 2D array\n",
    "input_img_1_2d = input_img_1.reshape((input_img_1.shape[0] * input_img_1.shape[1], input_img_1.shape[2]))\n"
   ]
  },
  {
   "attachments": {},
   "cell_type": "markdown",
   "metadata": {},
   "source": [
    "##### Expected Output\n",
    "\n",
    "Image 1 : 2D array:\n",
    "(558000, 3) <br>\n",
    "Image 2 : 2D array:\n",
    "(426400, 3) <br>\n",
    "Image 3 : 2D array:\n",
    "(275100, 3) <br>"
   ]
  },
  {
   "attachments": {},
   "cell_type": "markdown",
   "metadata": {},
   "source": [
    "### Implimentation of K-Mean Clustering"
   ]
  },
  {
   "cell_type": "code",
   "execution_count": 32,
   "metadata": {},
   "outputs": [],
   "source": [
    "def kmeans_clustering(data, k, max_iterations=100):\n",
    "    # Randomly initialize centroids\n",
    "    centroids = data[np.random.choice(data.shape[0], k, replace=False)]\n",
    "\n",
    "    for _ in range(max_iterations):\n",
    "        # Assign each data point to the nearest centroid\n",
    "        distances = np.sqrt(((data - centroids[:, np.newaxis])**2).sum(axis=2))\n",
    "        labels = np.argmin(distances, axis=0)\n",
    "\n",
    "        # Update centroids by taking the mean of the assigned data points\n",
    "        new_centroids = np.array([data[labels == i].mean(axis=0) for i in range(k)])\n",
    "\n",
    "        # Check convergence\n",
    "        if np.all(centroids == new_centroids):\n",
    "            break\n",
    "\n",
    "        centroids = new_centroids\n",
    "\n",
    "    return labels, centroids\n",
    "\n"
   ]
  },
  {
   "cell_type": "code",
   "execution_count": 62,
   "metadata": {},
   "outputs": [
    {
     "name": "stdout",
     "output_type": "stream",
     "text": [
      "Labels shape:  (558000,)\n",
      "Centroids shape:  (2, 3)\n"
     ]
    },
    {
     "data": {
      "text/plain": [
       "array([[146.69424657, 165.29740674, 178.57222286],\n",
       "       [ 59.52581169,  67.58876255,  95.28271327]])"
      ]
     },
     "execution_count": 62,
     "metadata": {},
     "output_type": "execute_result"
    }
   ],
   "source": [
    "k = 2  # Number of clusters\n",
    "labels, centroids = kmeans_clustering(input_img_1_2d, k)\n",
    "print('Labels shape: ', labels.shape)\n",
    "print('Centroids shape: ', centroids.shape)\n",
    "centroids"
   ]
  },
  {
   "cell_type": "code",
   "execution_count": 63,
   "metadata": {},
   "outputs": [
    {
     "name": "stdout",
     "output_type": "stream",
     "text": [
      "[0 1]\n",
      "[[146.69424657 165.29740674 178.57222286]\n",
      " [ 59.52581169  67.58876255  95.28271327]]\n"
     ]
    }
   ],
   "source": [
    "print(np.unique(labels))\n",
    "print(centroids)"
   ]
  },
  {
   "cell_type": "code",
   "execution_count": 69,
   "metadata": {},
   "outputs": [
    {
     "ename": "ValueError",
     "evalue": "cannot reshape array of size 558000 into shape (744,750,3)",
     "output_type": "error",
     "traceback": [
      "\u001b[1;31m---------------------------------------------------------------------------\u001b[0m",
      "\u001b[1;31mValueError\u001b[0m                                Traceback (most recent call last)",
      "\u001b[1;32mg:\\Semester 6\\ML (CS F20 TAship)\\CS-F20-ML\\K-Mean Clustring\\K-mean-clustering(images).ipynb Cell 17\u001b[0m in \u001b[0;36m3\n\u001b[0;32m      <a href='vscode-notebook-cell:/g%3A/Semester%206/ML%20%28CS%20F20%20TAship%29/CS-F20-ML/K-Mean%20Clustring/K-mean-clustering%28images%29.ipynb#X32sZmlsZQ%3D%3D?line=0'>1</a>\u001b[0m original_shape \u001b[39m=\u001b[39m input_img_1\u001b[39m.\u001b[39mshape\n\u001b[1;32m----> <a href='vscode-notebook-cell:/g%3A/Semester%206/ML%20%28CS%20F20%20TAship%29/CS-F20-ML/K-Mean%20Clustring/K-mean-clustering%28images%29.ipynb#X32sZmlsZQ%3D%3D?line=2'>3</a>\u001b[0m clustered_image \u001b[39m=\u001b[39m labels\u001b[39m.\u001b[39;49mreshape((\u001b[39m744\u001b[39;49m, \u001b[39m750\u001b[39;49m, \u001b[39m3\u001b[39;49m))\n",
      "\u001b[1;31mValueError\u001b[0m: cannot reshape array of size 558000 into shape (744,750,3)"
     ]
    }
   ],
   "source": [
    "original_shape = input_img_1.shape\n",
    "\n",
    "clustered_image = labels.reshape((744, 750, 3))\n"
   ]
  },
  {
   "attachments": {},
   "cell_type": "markdown",
   "metadata": {},
   "source": [
    "#### Regenrate clustered image"
   ]
  },
  {
   "cell_type": "code",
   "execution_count": null,
   "metadata": {},
   "outputs": [],
   "source": []
  },
  {
   "cell_type": "code",
   "execution_count": null,
   "metadata": {},
   "outputs": [],
   "source": []
  },
  {
   "attachments": {},
   "cell_type": "markdown",
   "metadata": {},
   "source": [
    "#### Plotting the clustered image"
   ]
  },
  {
   "cell_type": "code",
   "execution_count": null,
   "metadata": {},
   "outputs": [],
   "source": [
    "\n"
   ]
  }
 ],
 "metadata": {
  "kernelspec": {
   "display_name": "Python 3",
   "language": "python",
   "name": "python3"
  },
  "language_info": {
   "codemirror_mode": {
    "name": "ipython",
    "version": 3
   },
   "file_extension": ".py",
   "mimetype": "text/x-python",
   "name": "python",
   "nbconvert_exporter": "python",
   "pygments_lexer": "ipython3",
   "version": "3.9.13"
  },
  "orig_nbformat": 4
 },
 "nbformat": 4,
 "nbformat_minor": 2
}
