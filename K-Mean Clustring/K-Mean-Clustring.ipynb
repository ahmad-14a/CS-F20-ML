{
 "cells": [
  {
   "cell_type": "code",
   "execution_count": 3,
   "metadata": {},
   "outputs": [],
   "source": [
    "import numpy as np\n",
    "import pandas as pd\n",
    "import matplotlib.pyplot as plt\n",
    "import random\n",
    "from sklearn.cluster import KMeans"
   ]
  },
  {
   "cell_type": "code",
   "execution_count": 4,
   "metadata": {},
   "outputs": [
    {
     "data": {
      "text/html": [
       "<div>\n",
       "<style scoped>\n",
       "    .dataframe tbody tr th:only-of-type {\n",
       "        vertical-align: middle;\n",
       "    }\n",
       "\n",
       "    .dataframe tbody tr th {\n",
       "        vertical-align: top;\n",
       "    }\n",
       "\n",
       "    .dataframe thead th {\n",
       "        text-align: right;\n",
       "    }\n",
       "</style>\n",
       "<table border=\"1\" class=\"dataframe\">\n",
       "  <thead>\n",
       "    <tr style=\"text-align: right;\">\n",
       "      <th></th>\n",
       "      <th>ID</th>\n",
       "      <th>x</th>\n",
       "      <th>y</th>\n",
       "      <th>cluster</th>\n",
       "    </tr>\n",
       "  </thead>\n",
       "  <tbody>\n",
       "    <tr>\n",
       "      <th>0</th>\n",
       "      <td>0</td>\n",
       "      <td>24.412</td>\n",
       "      <td>32.932</td>\n",
       "      <td>2</td>\n",
       "    </tr>\n",
       "    <tr>\n",
       "      <th>1</th>\n",
       "      <td>1</td>\n",
       "      <td>35.190</td>\n",
       "      <td>12.189</td>\n",
       "      <td>1</td>\n",
       "    </tr>\n",
       "    <tr>\n",
       "      <th>2</th>\n",
       "      <td>2</td>\n",
       "      <td>26.288</td>\n",
       "      <td>41.718</td>\n",
       "      <td>2</td>\n",
       "    </tr>\n",
       "    <tr>\n",
       "      <th>3</th>\n",
       "      <td>3</td>\n",
       "      <td>0.376</td>\n",
       "      <td>15.506</td>\n",
       "      <td>0</td>\n",
       "    </tr>\n",
       "    <tr>\n",
       "      <th>4</th>\n",
       "      <td>4</td>\n",
       "      <td>26.116</td>\n",
       "      <td>3.963</td>\n",
       "      <td>1</td>\n",
       "    </tr>\n",
       "  </tbody>\n",
       "</table>\n",
       "</div>"
      ],
      "text/plain": [
       "   ID       x       y  cluster\n",
       "0   0  24.412  32.932        2\n",
       "1   1  35.190  12.189        1\n",
       "2   2  26.288  41.718        2\n",
       "3   3   0.376  15.506        0\n",
       "4   4  26.116   3.963        1"
      ]
     },
     "execution_count": 4,
     "metadata": {},
     "output_type": "execute_result"
    }
   ],
   "source": [
    "# Importing the dataset\n",
    "dataset = pd.read_csv('kmeans_blobs.csv')\n",
    "dataset.head()"
   ]
  },
  {
   "cell_type": "code",
   "execution_count": 5,
   "metadata": {},
   "outputs": [
    {
     "name": "stdout",
     "output_type": "stream",
     "text": [
      "[[24.412 32.932]\n",
      " [35.19  12.189]\n",
      " [26.288 41.718]\n",
      " [ 0.376 15.506]\n",
      " [26.116  3.963]\n",
      " [25.893 31.515]\n",
      " [23.606 15.402]\n",
      " [28.026 15.47 ]\n",
      " [26.36  34.488]\n",
      " [23.013 36.213]\n",
      " [27.819 41.867]\n",
      " [39.634 42.23 ]\n",
      " [35.477 35.104]\n",
      " [25.768  5.967]\n",
      " [-0.684 21.105]\n",
      " [ 3.387 17.81 ]\n",
      " [32.986  3.412]\n",
      " [34.258  9.931]\n",
      " [ 6.313 29.426]\n",
      " [33.899 37.535]\n",
      " [ 4.718 12.125]\n",
      " [21.054  5.067]\n",
      " [ 3.267 21.911]\n",
      " [24.537 38.822]\n",
      " [ 4.55  16.179]\n",
      " [25.712  7.409]\n",
      " [ 3.884 28.616]\n",
      " [29.081 34.539]\n",
      " [14.943 23.263]\n",
      " [32.169 45.421]\n",
      " [32.572 16.944]\n",
      " [33.673 13.163]\n",
      " [29.189 13.226]\n",
      " [25.994 34.444]\n",
      " [16.513 23.396]\n",
      " [23.492 11.142]\n",
      " [26.878 36.609]\n",
      " [31.604 36.911]\n",
      " [34.078 33.827]\n",
      " [11.286 16.082]\n",
      " [30.15   9.642]\n",
      " [36.569 45.827]\n",
      " [ 3.983 11.839]\n",
      " [12.891 23.832]\n",
      " [21.314 13.264]\n",
      " [29.101 44.781]\n",
      " [30.671  9.294]\n",
      " [35.139  9.803]\n",
      " [35.563 42.759]\n",
      " [35.028 15.779]\n",
      " [ 9.776 16.988]\n",
      " [24.268  5.693]\n",
      " [-0.36  15.319]\n",
      " [33.062 47.693]\n",
      " [21.034 37.463]\n",
      " [31.806  4.484]\n",
      " [22.493 39.466]\n",
      " [29.056 46.004]\n",
      " [29.822 13.83 ]\n",
      " [35.439 14.439]]\n"
     ]
    }
   ],
   "source": [
    "#extract x and y from the dataset and convert them to numpy arrays\n",
    "x = dataset['x'].values\n",
    "y = dataset['y'].values\n",
    "data =np.array( list(zip(x,y)))\n",
    "print(data)"
   ]
  },
  {
   "cell_type": "code",
   "execution_count": 6,
   "metadata": {},
   "outputs": [
    {
     "data": {
      "text/plain": [
       "<matplotlib.collections.PathCollection at 0x1c349ad7d60>"
      ]
     },
     "execution_count": 6,
     "metadata": {},
     "output_type": "execute_result"
    },
    {
     "data": {
      "image/png": "[encoded data removed]",
      "text/plain": [
       "<Figure size 640x480 with 1 Axes>"
      ]
     },
     "metadata": {},
     "output_type": "display_data"
    }
   ],
   "source": [
    "#plot the data to see what it looks like\n",
    "plt.scatter(data[:,0],data[:,1], c='black' ,s=20)"
   ]
  },
  {
   "cell_type": "code",
   "execution_count": 7,
   "metadata": {},
   "outputs": [],
   "source": [
    "# import random\n",
    "# import matplotlib.pyplot as plt\n",
    "\n",
    "# # Generate sample data\n",
    "# data = []\n",
    "# for _ in range(20):\n",
    "#     x = random.uniform(0, 10)\n",
    "#     y = random.uniform(0, 10)\n",
    "#     data.append([x, y])\n",
    "\n",
    "# # Extract x and y coordinates from data\n",
    "# x_coords = [point[0] for point in data]\n",
    "# y_coords = [point[1] for point in data]\n",
    "\n",
    "# # Plot the data\n",
    "# plt.scatter(x_coords, y_coords)\n",
    "# plt.xlabel('X')\n",
    "# plt.ylabel('Y')\n",
    "# plt.title('Sample Data')\n",
    "# plt.show()\n"
   ]
  },
  {
   "cell_type": "code",
   "execution_count": 8,
   "metadata": {},
   "outputs": [],
   "source": [
    "# print(data)\n",
    "# sample_data = np.array(data,int)\n",
    "# sample_data"
   ]
  },
  {
   "cell_type": "code",
   "execution_count": 9,
   "metadata": {},
   "outputs": [],
   "source": [
    "# #plot sample data\n",
    "# plt.scatter(sample_data[:,0],sample_data[:,1],c='blue',label='unclustered data')"
   ]
  },
  {
   "cell_type": "code",
   "execution_count": 10,
   "metadata": {},
   "outputs": [],
   "source": [
    "# #Step 1:Place K random centroids\n",
    "# centroids={}\n",
    "# k=3\n",
    "# for i in range(k):\n",
    "#     centroids[i+1]=[np.random.randint(0,10),np.random.randint(0,10)]\n",
    "\n",
    "# #plot the centroids\n",
    "# plt.scatter(sample_data[:,0],sample_data[:,1],c='black',label='unclustered data')\n",
    "# colmap={1:'r',2:'g',3:'b'}\n",
    "# for i in centroids.keys():\n",
    "#     plt.scatter(*centroids[i],color=colmap[i])\n",
    "# plt.xlim(0,10)\n",
    "# plt.ylim(0,10)\n",
    "# plt.show()\n",
    "\n",
    "\n",
    "\n"
   ]
  },
  {
   "attachments": {},
   "cell_type": "markdown",
   "metadata": {},
   "source": [
    "### Helper Functions"
   ]
  },
  {
   "attachments": {},
   "cell_type": "markdown",
   "metadata": {},
   "source": [
    "#### Distance Function"
   ]
  },
  {
   "cell_type": "code",
   "execution_count": 11,
   "metadata": {},
   "outputs": [],
   "source": [
    "def get_distance1(a,b):\n",
    "    return np.sqrt(np.sum((a-b)**2))\n",
    "\n",
    "def get_abs_distance(a,b):\n",
    "    a_arr = np.array(a)\n",
    "    b_arr = np.array(b)\n",
    "    return np.sum(np.abs(a_arr-b_arr))\n",
    "\n",
    "def get_distance(a, b):\n",
    "    a_arr = np.array(a)\n",
    "    b_arr = np.array(b)\n",
    "    return np.sqrt(np.sum((a_arr - b_arr)**2))\n"
   ]
  },
  {
   "attachments": {},
   "cell_type": "markdown",
   "metadata": {},
   "source": [
    "##### Initialize Centroids"
   ]
  },
  {
   "attachments": {},
   "cell_type": "markdown",
   "metadata": {},
   "source": [
    "#### Random Centroid Generator"
   ]
  },
  {
   "cell_type": "code",
   "execution_count": 12,
   "metadata": {},
   "outputs": [],
   "source": [
    "#This formula will help us generate random centroids within the range of the data points\n",
    "def random_sample(low,high):\n",
    "    return low + (high - low) * random.random()"
   ]
  },
  {
   "cell_type": "code",
   "execution_count": 13,
   "metadata": {},
   "outputs": [],
   "source": [
    "#This funtion will initialize the centroids randomly\n",
    "def initialize_centroids(data,k):\n",
    "    #Let first get the range of the data i.e range of x and y coordinates\n",
    "    x_min = y_min = float('inf')\n",
    "    x_max = y_max = float('-inf')\n",
    "    for point in data:\n",
    "        x_min = min(x_min, point[0])\n",
    "        y_min = min(y_min, point[1])\n",
    "        x_max = max(x_max, point[0])\n",
    "        y_max = max(y_max, point[1])\n",
    "\n",
    "    #Now we have the range of the data so we can randomly initialize the centroids in this range\n",
    "    centroids=[]\n",
    "    for i in range(k):\n",
    "        centroids.append([random_sample(x_min,x_max),\n",
    "                          random_sample(y_min,y_max)])\n",
    "    #Now finaly we will return the centroids\n",
    "    return centroids"
   ]
  },
  {
   "attachments": {},
   "cell_type": "markdown",
   "metadata": {},
   "source": [
    "#### Get Labels for Data Points"
   ]
  },
  {
   "cell_type": "code",
   "execution_count": 14,
   "metadata": {},
   "outputs": [],
   "source": [
    "def get_labels(data,centroids):\n",
    "    #This funtion will assign the data points to the closest centroids\n",
    "    labels=[]\n",
    "\n",
    "    for point in data:\n",
    "        min_dist = float('inf')\n",
    "        label = None\n",
    "        \n",
    "        for i,centroid in enumerate(centroids):\n",
    "            new_dist = get_abs_distance(point,centroid)\n",
    "            if new_dist < min_dist:\n",
    "                min_dist = new_dist\n",
    "                label = i\n",
    "        labels.append(label)\n",
    "        \n",
    "    return labels\n"
   ]
  },
  {
   "attachments": {},
   "cell_type": "markdown",
   "metadata": {},
   "source": [
    "#### Update centroids"
   ]
  },
  {
   "cell_type": "code",
   "execution_count": 15,
   "metadata": {},
   "outputs": [],
   "source": [
    "def update_centroids(data,labels,k):\n",
    "    #This funtion will update the centroids of the clusters\n",
    "    new_centroids = [[0,0] for i in range(k)]\n",
    "    counts = [0] * k\n",
    "\n",
    "    for point,label in zip(data,labels):\n",
    "        new_centroids[label][0] += point[0]\n",
    "        new_centroids[label][1] += point[1]\n",
    "        counts[label] += 1\n",
    "\n",
    "    for i,(total_x,total_y) in enumerate(new_centroids):\n",
    "        new_centroids[i] = [total_x/counts[i],total_y/counts[i]]\n",
    "\n",
    "    return new_centroids"
   ]
  },
  {
   "attachments": {},
   "cell_type": "markdown",
   "metadata": {},
   "source": [
    "#### Stoping Criteria"
   ]
  },
  {
   "cell_type": "code",
   "execution_count": 16,
   "metadata": {},
   "outputs": [],
   "source": [
    "def should_stop(old_centroids,centroids,threshold = 1e-4):\n",
    "    total_distance = 0\n",
    "    for old_c , new_c in zip(old_centroids,centroids):\n",
    "        total_distance = total_distance + get_abs_distance(old_c , new_c)\n",
    "    return total_distance < threshold"
   ]
  },
  {
   "attachments": {},
   "cell_type": "markdown",
   "metadata": {},
   "source": [
    "#### Main Function"
   ]
  },
  {
   "cell_type": "code",
   "execution_count": 17,
   "metadata": {},
   "outputs": [],
   "source": [
    "#This funtion will retun the labels and clusters to which the data point belongs to\n",
    "def main(data,k):\n",
    "\n",
    "    #Step 1:Initalize K random centroids\n",
    "    centroids= initialize_centroids(data,k)\n",
    "    print(f\"printing 1st set of centroids {centroids}\")\n",
    "    \n",
    "    i = 1\n",
    "    while True:\n",
    "        old_centroids=centroids\n",
    "\n",
    "        #Step 2:Assign all the points to the closest cluster centroid\n",
    "        labels= get_labels(data,centroids)\n",
    "        print(f\"printing labels set no. {i} : {labels}\")\n",
    "        \n",
    "    \n",
    "        #Step 3:Find new centroids of the clusters\n",
    "        centroids=update_centroids(data,labels,k)\n",
    "        print(f\"printing {i} set of updated centroids {centroids}\")\n",
    "        i = i + 1\n",
    "\n",
    "        #Step 4:Check if the centroids have converged\n",
    "        if should_stop(old_centroids,centroids):\n",
    "            break\n",
    "\n",
    "    return labels,centroids\n",
    "\n",
    "\n",
    "\n",
    "\n"
   ]
  },
  {
   "cell_type": "code",
   "execution_count": 18,
   "metadata": {},
   "outputs": [
    {
     "data": {
      "text/plain": [
       "numpy.ndarray"
      ]
     },
     "execution_count": 18,
     "metadata": {},
     "output_type": "execute_result"
    }
   ],
   "source": [
    "type(data)"
   ]
  },
  {
   "cell_type": "code",
   "execution_count": 21,
   "metadata": {},
   "outputs": [
    {
     "name": "stdout",
     "output_type": "stream",
     "text": [
      "printing 1st set of centroids [[24.889369614723257, 17.003007278276165], [31.58727113521957, 5.32568939591035], [8.501839129643864, 19.824166882903587]]\n",
      "printing labels set no. 1 : [0, 1, 0, 2, 1, 0, 0, 0, 0, 0, 0, 0, 0, 1, 2, 2, 1, 1, 2, 0, 2, 1, 2, 0, 2, 1, 2, 0, 2, 0, 0, 1, 0, 0, 2, 0, 0, 0, 0, 2, 1, 0, 2, 2, 0, 0, 1, 1, 0, 0, 2, 1, 2, 0, 0, 1, 0, 0, 0, 1]\n",
      "printing 1 set of updated centroids [[28.93751612903226, 32.684677419354834], [30.159285714285716, 8.17542857142857], [6.322866666666667, 19.5598]]\n",
      "printing labels set no. 2 : [0, 1, 0, 2, 1, 0, 1, 1, 0, 0, 0, 0, 0, 1, 2, 2, 1, 1, 2, 0, 2, 1, 2, 0, 2, 1, 2, 0, 2, 0, 1, 1, 1, 0, 2, 1, 0, 0, 0, 2, 1, 0, 2, 2, 1, 0, 1, 1, 0, 1, 2, 1, 2, 0, 0, 1, 0, 0, 1, 1]\n",
      "printing 2 set of updated centroids [[29.304956521739125, 39.05078260869565], [29.33086363636364, 10.432409090909093], [6.322866666666667, 19.5598]]\n",
      "printing labels set no. 3 : [0, 1, 0, 2, 1, 0, 1, 1, 0, 0, 0, 0, 0, 1, 2, 2, 1, 1, 2, 0, 2, 1, 2, 0, 2, 1, 2, 0, 2, 0, 1, 1, 1, 0, 2, 1, 0, 0, 0, 2, 1, 0, 2, 2, 1, 0, 1, 1, 0, 1, 2, 1, 2, 0, 0, 1, 0, 0, 1, 1]\n",
      "printing 3 set of updated centroids [[29.304956521739125, 39.05078260869565], [29.33086363636364, 10.432409090909093], [6.322866666666667, 19.5598]]\n"
     ]
    },
    {
     "data": {
      "image/png": "[encoded data removed]",
      "text/plain": [
       "<Figure size 640x480 with 1 Axes>"
      ]
     },
     "metadata": {},
     "output_type": "display_data"
    }
   ],
   "source": [
    "#call the main funtion and plot the data with the diffrent clusters colours\n",
    "labels,centroids=main(data,3)\n",
    "colmap={1:'r',2:'g',3:'b'}\n",
    "#plot the data and centroids\n",
    "\n",
    "for i in range(len(data)):\n",
    "    plt.scatter(data[i][0],data[i][1],color=colmap[labels[i]+1])\n",
    "\n",
    "\n",
    "# Plot the centroids with a different shape (e.g., 'x')\n",
    "for i, centroid in enumerate(centroids):\n",
    "    plt.scatter(centroid[0], centroid[1], marker='^', color=colmap[i+1])\n",
    "\n",
    "plt.show()\n",
    "\n",
    "\n"
   ]
  },
  {
   "cell_type": "code",
   "execution_count": 22,
   "metadata": {},
   "outputs": [
    {
     "name": "stdout",
     "output_type": "stream",
     "text": [
      "[0, 1, 0, 2, 1, 0, 1, 1, 0, 0, 0, 0, 0, 1, 2, 2, 1, 1, 2, 0, 2, 1, 2, 0, 2, 1, 2, 0, 2, 0, 1, 1, 1, 0, 2, 1, 0, 0, 0, 2, 1, 0, 2, 2, 1, 0, 1, 1, 0, 1, 2, 1, 2, 0, 0, 1, 0, 0, 1, 1]\n",
      "[[29.304956521739125, 39.05078260869565], [29.33086363636364, 10.432409090909093], [6.322866666666667, 19.5598]]\n"
     ]
    }
   ],
   "source": [
    "print(labels)\n",
    "print(centroids)"
   ]
  },
  {
   "attachments": {},
   "cell_type": "markdown",
   "metadata": {},
   "source": [
    "###### Time To Think\n",
    "Why we did not chose some points from the dataset as centroids?\n",
    "How doing so will be baised?\n",
    "\n",
    "Hint : its related to \"density of data points\"\n",
    "\n",
    "Answer : \n",
    "\n",
    "\n",
    "\n",
    "\n"
   ]
  },
  {
   "attachments": {},
   "cell_type": "markdown",
   "metadata": {},
   "source": []
  }
 ],
 "metadata": {
  "kernelspec": {
   "display_name": "Python 3",
   "language": "python",
   "name": "python3"
  },
  "language_info": {
   "codemirror_mode": {
    "name": "ipython",
    "version": 3
   },
   "file_extension": ".py",
   "mimetype": "text/x-python",
   "name": "python",
   "nbconvert_exporter": "python",
   "pygments_lexer": "ipython3",
   "version": "3.9.13"
  },
  "orig_nbformat": 4
 },
 "nbformat": 4,
 "nbformat_minor": 2
}
